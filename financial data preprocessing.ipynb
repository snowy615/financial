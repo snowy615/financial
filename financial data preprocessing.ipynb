{
 "cells": [
  {
   "cell_type": "code",
   "execution_count": 2,
   "id": "initial_id",
   "metadata": {
    "collapsed": true,
    "ExecuteTime": {
     "end_time": "2025-08-04T04:12:39.143774Z",
     "start_time": "2025-08-04T04:12:39.122903Z"
    }
   },
   "outputs": [
    {
     "data": {
      "text/html": "        <script type=\"text/javascript\">\n        window.PlotlyConfig = {MathJaxConfig: 'local'};\n        if (window.MathJax && window.MathJax.Hub && window.MathJax.Hub.Config) {window.MathJax.Hub.Config({SVG: {font: \"STIX-Web\"}});}\n        </script>\n        <script type=\"module\">import \"https://cdn.plot.ly/plotly-3.0.1.min\"</script>\n        "
     },
     "metadata": {},
     "output_type": "display_data"
    }
   ],
   "source": [
    "import pandas as pd\n",
    "import numpy as np\n",
    "\n",
    "import yfinance as yf\n",
    "\n",
    "import cufflinks as cf\n",
    "cf.set_config_file(offline=True)\n",
    "\n",
    "import warnings\n",
    "warnings.filterwarnings('ignore')"
   ]
  },
  {
   "cell_type": "code",
   "execution_count": 3,
   "outputs": [
    {
     "data": {
      "text/plain": "('2.3.1', '2.0.2', '0.2.65', '0.17.3')"
     },
     "execution_count": 3,
     "metadata": {},
     "output_type": "execute_result"
    }
   ],
   "source": [
    "pd.__version__, np.__version__, yf.__version__, cf.__version__"
   ],
   "metadata": {
    "collapsed": false,
    "ExecuteTime": {
     "end_time": "2025-08-04T04:12:48.756940Z",
     "start_time": "2025-08-04T04:12:48.730235Z"
    }
   },
   "id": "76b931a5a63f27ca"
  },
  {
   "cell_type": "code",
   "execution_count": 4,
   "outputs": [
    {
     "data": {
      "text/plain": "Price            Close        High         Low        Open     Volume\nTicker             SPY         SPY         SPY         SPY        SPY\nDate                                                                 \n2025-07-28  636.940002  638.039978  635.539978  637.479980   54917100\n2025-07-29  635.260010  638.669983  634.340027  638.349976   60556300\n2025-07-30  634.460022  637.679993  631.539978  635.919983   80418900\n2025-07-31  632.080017  639.849976  630.770020  639.460022  103385200\n2025-08-01  621.719971  626.340027  619.289978  626.299988  139951500",
      "text/html": "<div>\n<style scoped>\n    .dataframe tbody tr th:only-of-type {\n        vertical-align: middle;\n    }\n\n    .dataframe tbody tr th {\n        vertical-align: top;\n    }\n\n    .dataframe thead tr th {\n        text-align: left;\n    }\n\n    .dataframe thead tr:last-of-type th {\n        text-align: right;\n    }\n</style>\n<table border=\"1\" class=\"dataframe\">\n  <thead>\n    <tr>\n      <th>Price</th>\n      <th>Close</th>\n      <th>High</th>\n      <th>Low</th>\n      <th>Open</th>\n      <th>Volume</th>\n    </tr>\n    <tr>\n      <th>Ticker</th>\n      <th>SPY</th>\n      <th>SPY</th>\n      <th>SPY</th>\n      <th>SPY</th>\n      <th>SPY</th>\n    </tr>\n    <tr>\n      <th>Date</th>\n      <th></th>\n      <th></th>\n      <th></th>\n      <th></th>\n      <th></th>\n    </tr>\n  </thead>\n  <tbody>\n    <tr>\n      <th>2025-07-28</th>\n      <td>636.940002</td>\n      <td>638.039978</td>\n      <td>635.539978</td>\n      <td>637.479980</td>\n      <td>54917100</td>\n    </tr>\n    <tr>\n      <th>2025-07-29</th>\n      <td>635.260010</td>\n      <td>638.669983</td>\n      <td>634.340027</td>\n      <td>638.349976</td>\n      <td>60556300</td>\n    </tr>\n    <tr>\n      <th>2025-07-30</th>\n      <td>634.460022</td>\n      <td>637.679993</td>\n      <td>631.539978</td>\n      <td>635.919983</td>\n      <td>80418900</td>\n    </tr>\n    <tr>\n      <th>2025-07-31</th>\n      <td>632.080017</td>\n      <td>639.849976</td>\n      <td>630.770020</td>\n      <td>639.460022</td>\n      <td>103385200</td>\n    </tr>\n    <tr>\n      <th>2025-08-01</th>\n      <td>621.719971</td>\n      <td>626.340027</td>\n      <td>619.289978</td>\n      <td>626.299988</td>\n      <td>139951500</td>\n    </tr>\n  </tbody>\n</table>\n</div>"
     },
     "execution_count": 4,
     "metadata": {},
     "output_type": "execute_result"
    }
   ],
   "source": [
    "df1 = yf.download('SPY', period='5d', progress=False)\n",
    "df1.head()\n"
   ],
   "metadata": {
    "collapsed": false,
    "ExecuteTime": {
     "end_time": "2025-08-04T04:13:24.083846Z",
     "start_time": "2025-08-04T04:13:23.589249Z"
    }
   },
   "id": "7e3e19131ffed1f6"
  },
  {
   "cell_type": "code",
   "execution_count": 5,
   "outputs": [
    {
     "data": {
      "text/plain": "Price            Close        High         Low        Open    Volume\nTicker             SPY         SPY         SPY         SPY       SPY\nDate                                                                \n2020-12-24  346.428375  346.456539  344.973200  345.564639  26457900\n2020-12-28  349.404510  349.798803  348.371791  349.000792  39000400\n2020-12-29  348.737854  351.122491  348.146386  350.944111  53680500\n2020-12-30  349.235474  350.277590  348.841181  349.564070  49455300",
      "text/html": "<div>\n<style scoped>\n    .dataframe tbody tr th:only-of-type {\n        vertical-align: middle;\n    }\n\n    .dataframe tbody tr th {\n        vertical-align: top;\n    }\n\n    .dataframe thead tr th {\n        text-align: left;\n    }\n\n    .dataframe thead tr:last-of-type th {\n        text-align: right;\n    }\n</style>\n<table border=\"1\" class=\"dataframe\">\n  <thead>\n    <tr>\n      <th>Price</th>\n      <th>Close</th>\n      <th>High</th>\n      <th>Low</th>\n      <th>Open</th>\n      <th>Volume</th>\n    </tr>\n    <tr>\n      <th>Ticker</th>\n      <th>SPY</th>\n      <th>SPY</th>\n      <th>SPY</th>\n      <th>SPY</th>\n      <th>SPY</th>\n    </tr>\n    <tr>\n      <th>Date</th>\n      <th></th>\n      <th></th>\n      <th></th>\n      <th></th>\n      <th></th>\n    </tr>\n  </thead>\n  <tbody>\n    <tr>\n      <th>2020-12-24</th>\n      <td>346.428375</td>\n      <td>346.456539</td>\n      <td>344.973200</td>\n      <td>345.564639</td>\n      <td>26457900</td>\n    </tr>\n    <tr>\n      <th>2020-12-28</th>\n      <td>349.404510</td>\n      <td>349.798803</td>\n      <td>348.371791</td>\n      <td>349.000792</td>\n      <td>39000400</td>\n    </tr>\n    <tr>\n      <th>2020-12-29</th>\n      <td>348.737854</td>\n      <td>351.122491</td>\n      <td>348.146386</td>\n      <td>350.944111</td>\n      <td>53680500</td>\n    </tr>\n    <tr>\n      <th>2020-12-30</th>\n      <td>349.235474</td>\n      <td>350.277590</td>\n      <td>348.841181</td>\n      <td>349.564070</td>\n      <td>49455300</td>\n    </tr>\n  </tbody>\n</table>\n</div>"
     },
     "execution_count": 5,
     "metadata": {},
     "output_type": "execute_result"
    }
   ],
   "source": [
    "df2 = yf.download('SPY', start='2020-12-24', end='2020-12-31', progress=False)\n",
    "df2.head()"
   ],
   "metadata": {
    "collapsed": false,
    "ExecuteTime": {
     "end_time": "2025-08-04T04:14:26.476486Z",
     "start_time": "2025-08-04T04:14:26.252500Z"
    }
   },
   "id": "16ca9788c8da3a49"
  },
  {
   "cell_type": "code",
   "execution_count": 6,
   "outputs": [
    {
     "data": {
      "text/plain": "Price            Close        High         Low        Open     Volume\nTicker             SPY         SPY         SPY         SPY        SPY\nDate                                                                 \n2025-07-28  636.940002  638.039978  635.539978  637.479980   54917100\n2025-07-29  635.260010  638.669983  634.340027  638.349976   60556300\n2025-07-30  634.460022  637.679993  631.539978  635.919983   80418900\n2025-07-31  632.080017  639.849976  630.770020  639.460022  103385200\n2025-08-01  621.719971  626.340027  619.289978  626.299988  139951500",
      "text/html": "<div>\n<style scoped>\n    .dataframe tbody tr th:only-of-type {\n        vertical-align: middle;\n    }\n\n    .dataframe tbody tr th {\n        vertical-align: top;\n    }\n\n    .dataframe thead tr th {\n        text-align: left;\n    }\n\n    .dataframe thead tr:last-of-type th {\n        text-align: right;\n    }\n</style>\n<table border=\"1\" class=\"dataframe\">\n  <thead>\n    <tr>\n      <th>Price</th>\n      <th>Close</th>\n      <th>High</th>\n      <th>Low</th>\n      <th>Open</th>\n      <th>Volume</th>\n    </tr>\n    <tr>\n      <th>Ticker</th>\n      <th>SPY</th>\n      <th>SPY</th>\n      <th>SPY</th>\n      <th>SPY</th>\n      <th>SPY</th>\n    </tr>\n    <tr>\n      <th>Date</th>\n      <th></th>\n      <th></th>\n      <th></th>\n      <th></th>\n      <th></th>\n    </tr>\n  </thead>\n  <tbody>\n    <tr>\n      <th>2025-07-28</th>\n      <td>636.940002</td>\n      <td>638.039978</td>\n      <td>635.539978</td>\n      <td>637.479980</td>\n      <td>54917100</td>\n    </tr>\n    <tr>\n      <th>2025-07-29</th>\n      <td>635.260010</td>\n      <td>638.669983</td>\n      <td>634.340027</td>\n      <td>638.349976</td>\n      <td>60556300</td>\n    </tr>\n    <tr>\n      <th>2025-07-30</th>\n      <td>634.460022</td>\n      <td>637.679993</td>\n      <td>631.539978</td>\n      <td>635.919983</td>\n      <td>80418900</td>\n    </tr>\n    <tr>\n      <th>2025-07-31</th>\n      <td>632.080017</td>\n      <td>639.849976</td>\n      <td>630.770020</td>\n      <td>639.460022</td>\n      <td>103385200</td>\n    </tr>\n    <tr>\n      <th>2025-08-01</th>\n      <td>621.719971</td>\n      <td>626.340027</td>\n      <td>619.289978</td>\n      <td>626.299988</td>\n      <td>139951500</td>\n    </tr>\n  </tbody>\n</table>\n</div>"
     },
     "execution_count": 6,
     "metadata": {},
     "output_type": "execute_result"
    }
   ],
   "source": [
    "df3 = yf.download('SPY', period='ytd', progress=False)\n",
    "df3.tail()"
   ],
   "metadata": {
    "collapsed": false,
    "ExecuteTime": {
     "end_time": "2025-08-04T04:15:51.102613Z",
     "start_time": "2025-08-04T04:15:50.920756Z"
    }
   },
   "id": "54cd791c91972044"
  },
  {
   "cell_type": "code",
   "execution_count": 7,
   "outputs": [
    {
     "data": {
      "text/plain": "['AAPL', 'AMZN', 'FB', 'GOOGL', 'NFLX']"
     },
     "execution_count": 7,
     "metadata": {},
     "output_type": "execute_result"
    }
   ],
   "source": [
    "faang_stocks = ['AAPL', 'AMZN', 'FB', 'GOOGL', 'NFLX']\n",
    "faang_stocks"
   ],
   "metadata": {
    "collapsed": false,
    "ExecuteTime": {
     "end_time": "2025-08-04T04:16:18.486117Z",
     "start_time": "2025-08-04T04:16:18.479754Z"
    }
   },
   "id": "4d7ac4fc75e8348a"
  },
  {
   "cell_type": "code",
   "execution_count": 12,
   "outputs": [
    {
     "data": {
      "text/plain": "Ticker            AAPL        AMZN         FB       GOOGL         NFLX\nDate                                                                  \n2025-07-28  214.050003  232.789993  40.560001  192.580002  1174.599976\n2025-07-29  211.270004  231.009995  40.529999  195.750000  1168.739990\n2025-07-30  209.050003  230.190002  40.500000  196.529999  1184.199951\n2025-07-31  207.570007  234.110001  40.567001  191.899994  1159.400024\n2025-08-01  202.380005  214.750000  40.264000  189.130005  1158.599976",
      "text/html": "<div>\n<style scoped>\n    .dataframe tbody tr th:only-of-type {\n        vertical-align: middle;\n    }\n\n    .dataframe tbody tr th {\n        vertical-align: top;\n    }\n\n    .dataframe thead th {\n        text-align: right;\n    }\n</style>\n<table border=\"1\" class=\"dataframe\">\n  <thead>\n    <tr style=\"text-align: right;\">\n      <th>Ticker</th>\n      <th>AAPL</th>\n      <th>AMZN</th>\n      <th>FB</th>\n      <th>GOOGL</th>\n      <th>NFLX</th>\n    </tr>\n    <tr>\n      <th>Date</th>\n      <th></th>\n      <th></th>\n      <th></th>\n      <th></th>\n      <th></th>\n    </tr>\n  </thead>\n  <tbody>\n    <tr>\n      <th>2025-07-28</th>\n      <td>214.050003</td>\n      <td>232.789993</td>\n      <td>40.560001</td>\n      <td>192.580002</td>\n      <td>1174.599976</td>\n    </tr>\n    <tr>\n      <th>2025-07-29</th>\n      <td>211.270004</td>\n      <td>231.009995</td>\n      <td>40.529999</td>\n      <td>195.750000</td>\n      <td>1168.739990</td>\n    </tr>\n    <tr>\n      <th>2025-07-30</th>\n      <td>209.050003</td>\n      <td>230.190002</td>\n      <td>40.500000</td>\n      <td>196.529999</td>\n      <td>1184.199951</td>\n    </tr>\n    <tr>\n      <th>2025-07-31</th>\n      <td>207.570007</td>\n      <td>234.110001</td>\n      <td>40.567001</td>\n      <td>191.899994</td>\n      <td>1159.400024</td>\n    </tr>\n    <tr>\n      <th>2025-08-01</th>\n      <td>202.380005</td>\n      <td>214.750000</td>\n      <td>40.264000</td>\n      <td>189.130005</td>\n      <td>1158.599976</td>\n    </tr>\n  </tbody>\n</table>\n</div>"
     },
     "execution_count": 12,
     "metadata": {},
     "output_type": "execute_result"
    }
   ],
   "source": [
    "df4 = yf.download(faang_stocks, period = 'ytd', progress=False)['Close']\n",
    "df4.tail()"
   ],
   "metadata": {
    "collapsed": false,
    "ExecuteTime": {
     "end_time": "2025-08-04T04:22:00.337817Z",
     "start_time": "2025-08-04T04:22:00.041874Z"
    }
   },
   "id": "ab232dc98532d01c"
  },
  {
   "cell_type": "code",
   "execution_count": 13,
   "outputs": [
    {
     "data": {
      "text/plain": "{'AAPL': Price            Close        High         Low        Open     Volume\n Ticker            AAPL        AAPL        AAPL        AAPL       AAPL\n Date                                                                 \n 2024-08-02  218.836578  224.549865  216.696592  218.129877  105568600\n 2024-08-05  208.295868  212.506173  195.087635  198.163247  119548600\n 2024-08-06  206.265350  209.012512  200.134036  204.344342   69660500\n 2024-08-07  208.843323  212.645533  205.429281  205.936902   63516400\n 2024-08-08  212.317062  213.202919  207.857921  212.117996   47161100\n ...                ...         ...         ...         ...        ...\n 2025-07-28  214.050003  214.850006  213.059998  214.029999   37858000\n 2025-07-29  211.270004  214.809998  210.820007  214.179993   51411700\n 2025-07-30  209.050003  212.389999  207.720001  211.899994   45512500\n 2025-07-31  207.570007  209.839996  207.160004  208.490005   80698400\n 2025-08-01  202.380005  213.580002  201.500000  210.869995  104301700\n \n [250 rows x 5 columns],\n 'AMZN': Price            Close        High         Low        Open     Volume\n Ticker            AMZN        AMZN        AMZN        AMZN       AMZN\n Date                                                                 \n 2024-08-02  167.899994  168.770004  160.550003  166.750000  141448400\n 2024-08-05  161.020004  162.960007  151.610001  154.210007   83149400\n 2024-08-06  161.929993  165.080002  158.539993  161.710007   59950800\n 2024-08-07  162.770004  167.580002  161.429993  166.550003   48408200\n 2024-08-08  165.800003  166.690002  162.550003  165.169998   44616200\n ...                ...         ...         ...         ...        ...\n 2025-07-28  232.789993  234.289993  232.250000  233.350006   26300100\n 2025-07-29  231.009995  234.720001  230.309998  234.149994   33716200\n 2025-07-30  230.190002  231.800003  229.289993  231.639999   32993300\n 2025-07-31  234.110001  236.529999  231.399994  235.770004  104357300\n 2025-08-01  214.750000  220.440002  212.800003  217.210007  122060100\n \n [250 rows x 5 columns],\n 'FB': Price           Close       High        Low       Open Volume\n Ticker             FB         FB         FB         FB     FB\n Date                                                         \n 2025-06-26  39.910000  40.189999  39.910000  40.139999  36700\n 2025-06-27  40.249001  40.369999  40.150002  40.150002  11300\n 2025-06-30  40.473999  40.570000  40.299999  40.450001  28700\n 2025-07-01  40.394001  41.404999  40.320000  40.362000  11300\n 2025-07-02  40.250000  40.360001  40.240002  40.311001  50300\n 2025-07-03  40.514000  40.570000  40.439999  40.480000   4400\n 2025-07-07  40.549999  40.570000  40.459999  40.570000  93100\n 2025-07-08  40.410000  40.509998  40.410000  40.480000   3200\n 2025-07-09  40.445000  40.599998  40.380001  40.500000  11500\n 2025-07-10  40.476002  40.490002  40.476002  40.490002    200\n 2025-07-11  40.455002  40.509998  40.432999  40.470001   3700\n 2025-07-14  40.442001  40.490002  40.439999  40.490002   2200\n 2025-07-15  40.360001  40.490002  40.360001  40.490002   2500\n 2025-07-16  40.458000  40.500000  40.389999  40.480000  97600\n 2025-07-17  40.513000  40.528999  40.444000  40.444000   2000\n 2025-07-18  40.472000  40.529999  40.472000  40.520000  14900\n 2025-07-21  40.410000  40.919998  40.410000  40.630001   2200\n 2025-07-22  40.500000  40.750000  40.410000  40.750000   3200\n 2025-07-23  40.575001  40.939999  40.549999  40.619999   1100\n 2025-07-24  40.589001  40.623001  40.589001  40.623001    600\n 2025-07-25  40.560001  40.605000  40.410000  40.605000   5600\n 2025-07-28  40.560001  40.660000  40.560001  40.660000   1700\n 2025-07-29  40.529999  40.630001  40.529999  40.630001   1400\n 2025-07-30  40.500000  40.639999  40.500000  40.630001   1000\n 2025-07-31  40.567001  40.680000  40.567001  40.680000    800\n 2025-08-01  40.264000  40.549999  40.264000  40.540001   1400,\n 'GOOGL': Price            Close        High         Low        Open    Volume\n Ticker           GOOGL       GOOGL       GOOGL       GOOGL     GOOGL\n Date                                                                \n 2024-08-02  165.856598  167.697671  163.876185  165.637657  29130100\n 2024-08-05  158.482315  163.637337  154.183133  154.750392  53630700\n 2024-08-06  157.526932  159.795955  155.656005  158.561927  49004600\n 2024-08-07  158.173798  162.194315  157.706062  160.472659  25138600\n 2024-08-08  161.248886  162.900887  159.437668  159.736209  25578800\n ...                ...         ...         ...         ...       ...\n 2025-07-28  192.580002  194.050003  190.839996  193.649994  38139500\n 2025-07-29  195.750000  195.919998  192.080002  192.429993  41389200\n 2025-07-30  196.529999  197.600006  194.690002  195.600006  32445400\n 2025-07-31  191.899994  195.990005  191.089996  195.710007  51329200\n 2025-08-01  189.130005  190.830002  187.820007  189.029999  34797400\n \n [250 rows x 5 columns],\n 'NFLX': Price             Close         High          Low         Open   Volume\n Ticker             NFLX         NFLX         NFLX         NFLX     NFLX\n Date                                                                   \n 2024-08-02   613.640015   625.270020   608.349976   620.979980  3523000\n 2024-08-05   598.549988   604.559998   587.039978   587.039978  4044200\n 2024-08-06   609.570007   622.450012   600.619995   600.619995  4319100\n 2024-08-07   611.479980   632.000000   610.640015   616.070007  3187800\n 2024-08-08   630.349976   632.289978   616.020020   621.989990  3283500\n ...                 ...          ...          ...          ...      ...\n 2025-07-28  1174.599976  1197.790039  1168.530029  1181.199951  3447000\n 2025-07-29  1168.739990  1179.599976  1163.290039  1179.000000  2752500\n 2025-07-30  1184.199951  1184.849976  1166.099976  1168.550049  2922700\n 2025-07-31  1159.400024  1190.000000  1157.739990  1184.800049  3712900\n 2025-08-01  1158.599976  1178.510010  1152.849976  1163.010010  3888000\n \n [250 rows x 5 columns]}"
     },
     "execution_count": 13,
     "metadata": {},
     "output_type": "execute_result"
    }
   ],
   "source": [
    "ohlcv = {symbol: yf.download(symbol, period='250d', progress=False) for symbol in faang_stocks}\n",
    "ohlcv"
   ],
   "metadata": {
    "collapsed": false,
    "ExecuteTime": {
     "end_time": "2025-08-04T04:23:37.054525Z",
     "start_time": "2025-08-04T04:23:36.436751Z"
    }
   },
   "id": "99fa297b943ad244"
  },
  {
   "cell_type": "code",
   "execution_count": 14,
   "outputs": [
    {
     "data": {
      "text/plain": "Price            Close        High         Low        Open     Volume\nTicker            AMZN        AMZN        AMZN        AMZN       AMZN\nDate                                                                 \n2024-08-02  167.899994  168.770004  160.550003  166.750000  141448400\n2024-08-05  161.020004  162.960007  151.610001  154.210007   83149400\n2024-08-06  161.929993  165.080002  158.539993  161.710007   59950800\n2024-08-07  162.770004  167.580002  161.429993  166.550003   48408200\n2024-08-08  165.800003  166.690002  162.550003  165.169998   44616200\n...                ...         ...         ...         ...        ...\n2025-07-28  232.789993  234.289993  232.250000  233.350006   26300100\n2025-07-29  231.009995  234.720001  230.309998  234.149994   33716200\n2025-07-30  230.190002  231.800003  229.289993  231.639999   32993300\n2025-07-31  234.110001  236.529999  231.399994  235.770004  104357300\n2025-08-01  214.750000  220.440002  212.800003  217.210007  122060100\n\n[250 rows x 5 columns]",
      "text/html": "<div>\n<style scoped>\n    .dataframe tbody tr th:only-of-type {\n        vertical-align: middle;\n    }\n\n    .dataframe tbody tr th {\n        vertical-align: top;\n    }\n\n    .dataframe thead tr th {\n        text-align: left;\n    }\n\n    .dataframe thead tr:last-of-type th {\n        text-align: right;\n    }\n</style>\n<table border=\"1\" class=\"dataframe\">\n  <thead>\n    <tr>\n      <th>Price</th>\n      <th>Close</th>\n      <th>High</th>\n      <th>Low</th>\n      <th>Open</th>\n      <th>Volume</th>\n    </tr>\n    <tr>\n      <th>Ticker</th>\n      <th>AMZN</th>\n      <th>AMZN</th>\n      <th>AMZN</th>\n      <th>AMZN</th>\n      <th>AMZN</th>\n    </tr>\n    <tr>\n      <th>Date</th>\n      <th></th>\n      <th></th>\n      <th></th>\n      <th></th>\n      <th></th>\n    </tr>\n  </thead>\n  <tbody>\n    <tr>\n      <th>2024-08-02</th>\n      <td>167.899994</td>\n      <td>168.770004</td>\n      <td>160.550003</td>\n      <td>166.750000</td>\n      <td>141448400</td>\n    </tr>\n    <tr>\n      <th>2024-08-05</th>\n      <td>161.020004</td>\n      <td>162.960007</td>\n      <td>151.610001</td>\n      <td>154.210007</td>\n      <td>83149400</td>\n    </tr>\n    <tr>\n      <th>2024-08-06</th>\n      <td>161.929993</td>\n      <td>165.080002</td>\n      <td>158.539993</td>\n      <td>161.710007</td>\n      <td>59950800</td>\n    </tr>\n    <tr>\n      <th>2024-08-07</th>\n      <td>162.770004</td>\n      <td>167.580002</td>\n      <td>161.429993</td>\n      <td>166.550003</td>\n      <td>48408200</td>\n    </tr>\n    <tr>\n      <th>2024-08-08</th>\n      <td>165.800003</td>\n      <td>166.690002</td>\n      <td>162.550003</td>\n      <td>165.169998</td>\n      <td>44616200</td>\n    </tr>\n    <tr>\n      <th>...</th>\n      <td>...</td>\n      <td>...</td>\n      <td>...</td>\n      <td>...</td>\n      <td>...</td>\n    </tr>\n    <tr>\n      <th>2025-07-28</th>\n      <td>232.789993</td>\n      <td>234.289993</td>\n      <td>232.250000</td>\n      <td>233.350006</td>\n      <td>26300100</td>\n    </tr>\n    <tr>\n      <th>2025-07-29</th>\n      <td>231.009995</td>\n      <td>234.720001</td>\n      <td>230.309998</td>\n      <td>234.149994</td>\n      <td>33716200</td>\n    </tr>\n    <tr>\n      <th>2025-07-30</th>\n      <td>230.190002</td>\n      <td>231.800003</td>\n      <td>229.289993</td>\n      <td>231.639999</td>\n      <td>32993300</td>\n    </tr>\n    <tr>\n      <th>2025-07-31</th>\n      <td>234.110001</td>\n      <td>236.529999</td>\n      <td>231.399994</td>\n      <td>235.770004</td>\n      <td>104357300</td>\n    </tr>\n    <tr>\n      <th>2025-08-01</th>\n      <td>214.750000</td>\n      <td>220.440002</td>\n      <td>212.800003</td>\n      <td>217.210007</td>\n      <td>122060100</td>\n    </tr>\n  </tbody>\n</table>\n<p>250 rows × 5 columns</p>\n</div>"
     },
     "execution_count": 14,
     "metadata": {},
     "output_type": "execute_result"
    }
   ],
   "source": [
    "ohlcv['AMZN']"
   ],
   "metadata": {
    "collapsed": false,
    "ExecuteTime": {
     "end_time": "2025-08-04T04:30:08.017572Z",
     "start_time": "2025-08-04T04:30:08.009686Z"
    }
   },
   "id": "cf438a3f2606d5fe"
  },
  {
   "cell_type": "code",
   "execution_count": 15,
   "outputs": [
    {
     "data": {
      "text/plain": "Price                           Close        High         Low        Open  \\\nTicker                            SPY         SPY         SPY         SPY   \nDatetime                                                                    \n2025-08-01 19:55:00+00:00  622.250000  622.289978  621.645020  622.099976   \n2025-08-01 19:56:00+00:00  622.460022  622.530029  622.121399  622.270020   \n2025-08-01 19:57:00+00:00  622.385010  622.530029  622.219971  622.460022   \n2025-08-01 19:58:00+00:00  621.960022  622.440002  621.950500  622.390015   \n2025-08-01 19:59:00+00:00  621.710022  622.030029  621.515015  621.969971   \n\nPrice                       Volume  \nTicker                         SPY  \nDatetime                            \n2025-08-01 19:55:00+00:00   868553  \n2025-08-01 19:56:00+00:00   708006  \n2025-08-01 19:57:00+00:00   825233  \n2025-08-01 19:58:00+00:00  1144244  \n2025-08-01 19:59:00+00:00  2540158  ",
      "text/html": "<div>\n<style scoped>\n    .dataframe tbody tr th:only-of-type {\n        vertical-align: middle;\n    }\n\n    .dataframe tbody tr th {\n        vertical-align: top;\n    }\n\n    .dataframe thead tr th {\n        text-align: left;\n    }\n\n    .dataframe thead tr:last-of-type th {\n        text-align: right;\n    }\n</style>\n<table border=\"1\" class=\"dataframe\">\n  <thead>\n    <tr>\n      <th>Price</th>\n      <th>Close</th>\n      <th>High</th>\n      <th>Low</th>\n      <th>Open</th>\n      <th>Volume</th>\n    </tr>\n    <tr>\n      <th>Ticker</th>\n      <th>SPY</th>\n      <th>SPY</th>\n      <th>SPY</th>\n      <th>SPY</th>\n      <th>SPY</th>\n    </tr>\n    <tr>\n      <th>Datetime</th>\n      <th></th>\n      <th></th>\n      <th></th>\n      <th></th>\n      <th></th>\n    </tr>\n  </thead>\n  <tbody>\n    <tr>\n      <th>2025-08-01 19:55:00+00:00</th>\n      <td>622.250000</td>\n      <td>622.289978</td>\n      <td>621.645020</td>\n      <td>622.099976</td>\n      <td>868553</td>\n    </tr>\n    <tr>\n      <th>2025-08-01 19:56:00+00:00</th>\n      <td>622.460022</td>\n      <td>622.530029</td>\n      <td>622.121399</td>\n      <td>622.270020</td>\n      <td>708006</td>\n    </tr>\n    <tr>\n      <th>2025-08-01 19:57:00+00:00</th>\n      <td>622.385010</td>\n      <td>622.530029</td>\n      <td>622.219971</td>\n      <td>622.460022</td>\n      <td>825233</td>\n    </tr>\n    <tr>\n      <th>2025-08-01 19:58:00+00:00</th>\n      <td>621.960022</td>\n      <td>622.440002</td>\n      <td>621.950500</td>\n      <td>622.390015</td>\n      <td>1144244</td>\n    </tr>\n    <tr>\n      <th>2025-08-01 19:59:00+00:00</th>\n      <td>621.710022</td>\n      <td>622.030029</td>\n      <td>621.515015</td>\n      <td>621.969971</td>\n      <td>2540158</td>\n    </tr>\n  </tbody>\n</table>\n</div>"
     },
     "execution_count": 15,
     "metadata": {},
     "output_type": "execute_result"
    }
   ],
   "source": [
    "df6 = yf.download(tickers='SPY', period=\"5d\", interval=\"1m\", progress=False)\n",
    "df6.tail()\n",
    "                  "
   ],
   "metadata": {
    "collapsed": false,
    "ExecuteTime": {
     "end_time": "2025-08-04T04:31:48.582242Z",
     "start_time": "2025-08-04T04:31:48.321429Z"
    }
   },
   "id": "e8c0972695ce0f8b"
  },
  {
   "cell_type": "markdown",
   "source": [
    "option chain"
   ],
   "metadata": {
    "collapsed": false
   },
   "id": "d60f708cac5f0694"
  },
  {
   "cell_type": "code",
   "execution_count": 20,
   "outputs": [
    {
     "data": {
      "text/plain": "Options(calls=        contractSymbol             lastTradeDate  strike  lastPrice     bid  \\\n0   SPY250805C00500000 2025-07-23 14:12:36+00:00   500.0     130.97  120.92   \n1   SPY250805C00540000 2025-08-01 14:35:07+00:00   540.0      84.02   80.94   \n2   SPY250805C00545000 2025-07-30 16:15:09+00:00   545.0      91.58   75.95   \n3   SPY250805C00555000 2025-08-01 13:52:53+00:00   555.0      66.96   65.96   \n4   SPY250805C00560000 2025-07-31 13:48:08+00:00   560.0      78.72   60.98   \n..                 ...                       ...     ...        ...     ...   \n75  SPY250805C00685000 2025-07-25 17:51:48+00:00   685.0       0.01    0.00   \n76  SPY250805C00695000 2025-07-28 13:30:03+00:00   695.0       0.01    0.00   \n77  SPY250805C00700000 2025-07-31 13:49:42+00:00   700.0       0.01    0.00   \n78  SPY250805C00705000 2025-07-28 13:30:03+00:00   705.0       0.01    0.00   \n79  SPY250805C00730000 2025-07-28 13:30:08+00:00   730.0       0.01    0.00   \n\n       ask  change  percentChange  volume  openInterest  impliedVolatility  \\\n0   123.61    0.00       0.000000     NaN             0           1.484378   \n1    83.64  -14.18     -14.439918     4.0             4           1.034185   \n2    78.65    0.00       0.000000     NaN             1           0.979981   \n3    68.68    0.00       0.000000    30.0             0           0.872072   \n4    63.68    0.00       0.000000     1.0             2           0.817385   \n..     ...     ...            ...     ...           ...                ...   \n75    0.01    0.00       0.000000     8.0             8           0.445318   \n76    0.01    0.00       0.000000     NaN             1           0.507817   \n77    0.01    0.00       0.000000     NaN           201           0.500005   \n78    0.01    0.00       0.000000     NaN             1           0.531255   \n79    0.01    0.00       0.000000     NaN             1           0.656253   \n\n    inTheMoney contractSize currency  \n0         True      REGULAR      USD  \n1         True      REGULAR      USD  \n2         True      REGULAR      USD  \n3         True      REGULAR      USD  \n4         True      REGULAR      USD  \n..         ...          ...      ...  \n75       False      REGULAR      USD  \n76       False      REGULAR      USD  \n77       False      REGULAR      USD  \n78       False      REGULAR      USD  \n79       False      REGULAR      USD  \n\n[80 rows x 14 columns], puts=        contractSymbol             lastTradeDate  strike  lastPrice    bid  \\\n0   SPY250805P00500000 2025-08-01 19:54:20+00:00   500.0       0.01   0.00   \n1   SPY250805P00505000 2025-08-01 18:14:50+00:00   505.0       0.01   0.00   \n2   SPY250805P00510000 2025-08-01 19:38:22+00:00   510.0       0.02   0.01   \n3   SPY250805P00515000 2025-08-01 19:50:22+00:00   515.0       0.02   0.01   \n4   SPY250805P00520000 2025-08-01 20:01:51+00:00   520.0       0.02   0.01   \n..                 ...                       ...     ...        ...    ...   \n73  SPY250805P00660000 2025-08-01 18:37:06+00:00   660.0      37.75  36.51   \n74  SPY250805P00665000 2025-07-22 19:34:02+00:00   665.0      35.68  41.55   \n75  SPY250805P00670000 2025-07-22 19:25:41+00:00   670.0      40.85  46.55   \n76  SPY250805P00680000 2025-07-30 19:11:35+00:00   680.0      47.25  56.55   \n77  SPY250805P00685000 2025-08-01 17:21:54+00:00   685.0      64.06  61.44   \n\n      ask  change  percentChange  volume  openInterest  impliedVolatility  \\\n0    0.01    0.00       0.000000  1192.0           502           0.906251   \n1    0.01    0.00       0.000000  1860.0           228           0.859376   \n2    0.02    0.01     100.000000  2637.0           217           0.898439   \n3    0.02    0.01     100.000000  2493.0           196           0.859376   \n4    0.02    0.00       0.000000  1501.0           492           0.812502   \n..    ...     ...            ...     ...           ...                ...   \n73  39.24    8.75      30.172413    23.0             3           0.570561   \n74  44.24    0.00       0.000000     NaN             0           0.624027   \n75  49.25    0.00       0.000000     NaN             0           0.677982   \n76  59.24    0.00       0.000000     NaN             0           0.777346   \n77  64.24    1.75       2.808538   300.0             0           0.826174   \n\n    inTheMoney contractSize currency  \n0        False      REGULAR      USD  \n1        False      REGULAR      USD  \n2        False      REGULAR      USD  \n3        False      REGULAR      USD  \n4        False      REGULAR      USD  \n..         ...          ...      ...  \n73        True      REGULAR      USD  \n74        True      REGULAR      USD  \n75        True      REGULAR      USD  \n76        True      REGULAR      USD  \n77        True      REGULAR      USD  \n\n[78 rows x 14 columns], underlying={'language': 'en-US', 'region': 'US', 'quoteType': 'ETF', 'typeDisp': 'ETF', 'quoteSourceName': 'Nasdaq Real Time Price', 'triggerable': True, 'customPriceAlertConfidence': 'HIGH', 'tradeable': False, 'cryptoTradeable': False, 'currency': 'USD', 'shortName': 'SPDR S&P 500', 'longName': 'SPDR S&P 500 ETF', 'corporateActions': [], 'postMarketTime': 1754092799, 'regularMarketTime': 1754078400, 'messageBoardId': 'finmb_6160262', 'exchangeTimezoneName': 'America/New_York', 'exchangeTimezoneShortName': 'EDT', 'gmtOffSetMilliseconds': -14400000, 'market': 'us_market', 'esgPopulated': False, 'regularMarketChangePercent': -1.63904, 'regularMarketPrice': 621.72, 'hasPrePostMarketData': True, 'firstTradeDateMilliseconds': 728317800000, 'priceHint': 2, 'postMarketChangePercent': -0.0804221, 'postMarketPrice': 621.22, 'postMarketChange': -0.5, 'regularMarketChange': -10.36, 'regularMarketDayHigh': 626.34, 'regularMarketDayRange': '619.29 - 626.34', 'regularMarketDayLow': 619.29, 'regularMarketVolume': 139492478, 'regularMarketPreviousClose': 632.08, 'bid': 0.0, 'ask': 0.0, 'bidSize': 7, 'askSize': 3, 'fullExchangeName': 'NYSEArca', 'financialCurrency': 'USD', 'regularMarketOpen': 626.3, 'averageDailyVolume3Month': 70862608, 'averageDailyVolume10Day': 76133380, 'fiftyTwoWeekLowChange': 139.91998, 'fiftyTwoWeekLowChangePercent': 0.29041094, 'fiftyTwoWeekRange': '481.8 - 639.85', 'fiftyTwoWeekHighChange': -18.130005, 'fiftyTwoWeekHighChangePercent': -0.028334774, 'fiftyTwoWeekLow': 481.8, 'fiftyTwoWeekHigh': 639.85, 'fiftyTwoWeekChangePercent': 20.166992, 'trailingAnnualDividendRate': 5.662, 'trailingPE': 26.8767, 'trailingAnnualDividendYield': 0.008957727, 'dividendYield': 1.16, 'ytdReturn': 6.1564, 'trailingThreeMonthReturns': 10.90556, 'trailingThreeMonthNavReturns': 10.90556, 'netAssets': 636784210000.0, 'epsTrailingTwelveMonths': 23.132303, 'sharesOutstanding': 917782016, 'bookValue': 429.22, 'fiftyDayAverage': 611.287, 'fiftyDayAverageChange': 10.432983, 'fiftyDayAverageChangePercent': 0.017067242, 'twoHundredDayAverage': 588.4548, 'twoHundredDayAverageChange': 33.265198, 'twoHundredDayAverageChangePercent': 0.056529745, 'netExpenseRatio': 0.0945, 'marketCap': 570603405312, 'priceToBook': 1.4484879, 'sourceInterval': 15, 'exchangeDataDelayedBy': 0, 'exchange': 'PCX', 'marketState': 'PREPRE', 'symbol': 'SPY'})"
     },
     "execution_count": 20,
     "metadata": {},
     "output_type": "execute_result"
    }
   ],
   "source": [
    "spy = yf.Ticker('SPY')\n",
    "options = spy.option_chain('2025-08-05')\n",
    "options"
   ],
   "metadata": {
    "collapsed": false,
    "ExecuteTime": {
     "end_time": "2025-08-04T04:34:25.115852Z",
     "start_time": "2025-08-04T04:34:24.913307Z"
    }
   },
   "id": "1254b05623a7c670"
  },
  {
   "cell_type": "code",
   "execution_count": 21,
   "outputs": [
    {
     "data": {
      "text/plain": "       contractSymbol             lastTradeDate  strike  lastPrice     bid  \\\n0  SPY250805C00500000 2025-07-23 14:12:36+00:00   500.0     130.97  120.92   \n1  SPY250805C00540000 2025-08-01 14:35:07+00:00   540.0      84.02   80.94   \n2  SPY250805C00545000 2025-07-30 16:15:09+00:00   545.0      91.58   75.95   \n3  SPY250805C00555000 2025-08-01 13:52:53+00:00   555.0      66.96   65.96   \n4  SPY250805C00560000 2025-07-31 13:48:08+00:00   560.0      78.72   60.98   \n\n      ask  change  \n0  123.61    0.00  \n1   83.64  -14.18  \n2   78.65    0.00  \n3   68.68    0.00  \n4   63.68    0.00  ",
      "text/html": "<div>\n<style scoped>\n    .dataframe tbody tr th:only-of-type {\n        vertical-align: middle;\n    }\n\n    .dataframe tbody tr th {\n        vertical-align: top;\n    }\n\n    .dataframe thead th {\n        text-align: right;\n    }\n</style>\n<table border=\"1\" class=\"dataframe\">\n  <thead>\n    <tr style=\"text-align: right;\">\n      <th></th>\n      <th>contractSymbol</th>\n      <th>lastTradeDate</th>\n      <th>strike</th>\n      <th>lastPrice</th>\n      <th>bid</th>\n      <th>ask</th>\n      <th>change</th>\n    </tr>\n  </thead>\n  <tbody>\n    <tr>\n      <th>0</th>\n      <td>SPY250805C00500000</td>\n      <td>2025-07-23 14:12:36+00:00</td>\n      <td>500.0</td>\n      <td>130.97</td>\n      <td>120.92</td>\n      <td>123.61</td>\n      <td>0.00</td>\n    </tr>\n    <tr>\n      <th>1</th>\n      <td>SPY250805C00540000</td>\n      <td>2025-08-01 14:35:07+00:00</td>\n      <td>540.0</td>\n      <td>84.02</td>\n      <td>80.94</td>\n      <td>83.64</td>\n      <td>-14.18</td>\n    </tr>\n    <tr>\n      <th>2</th>\n      <td>SPY250805C00545000</td>\n      <td>2025-07-30 16:15:09+00:00</td>\n      <td>545.0</td>\n      <td>91.58</td>\n      <td>75.95</td>\n      <td>78.65</td>\n      <td>0.00</td>\n    </tr>\n    <tr>\n      <th>3</th>\n      <td>SPY250805C00555000</td>\n      <td>2025-08-01 13:52:53+00:00</td>\n      <td>555.0</td>\n      <td>66.96</td>\n      <td>65.96</td>\n      <td>68.68</td>\n      <td>0.00</td>\n    </tr>\n    <tr>\n      <th>4</th>\n      <td>SPY250805C00560000</td>\n      <td>2025-07-31 13:48:08+00:00</td>\n      <td>560.0</td>\n      <td>78.72</td>\n      <td>60.98</td>\n      <td>63.68</td>\n      <td>0.00</td>\n    </tr>\n  </tbody>\n</table>\n</div>"
     },
     "execution_count": 21,
     "metadata": {},
     "output_type": "execute_result"
    }
   ],
   "source": [
    "df = options.calls[options.calls['strike'] > 400]\n",
    "df.reset_index(drop=True, inplace=True)\n",
    "df.iloc[:, :7].head()"
   ],
   "metadata": {
    "collapsed": false,
    "ExecuteTime": {
     "end_time": "2025-08-04T04:35:22.900059Z",
     "start_time": "2025-08-04T04:35:22.891640Z"
    }
   },
   "id": "f7887c3681c5e42"
  },
  {
   "cell_type": "code",
   "execution_count": 27,
   "outputs": [],
   "source": [
    "import os\n",
    "from pandas import ExcelWriter\n",
    "os.makedirs('data', exist_ok=True)"
   ],
   "metadata": {
    "collapsed": false,
    "ExecuteTime": {
     "end_time": "2025-08-04T04:41:04.408777Z",
     "start_time": "2025-08-04T04:41:04.401350Z"
    }
   },
   "id": "1a91005f4b06bd17"
  },
  {
   "cell_type": "code",
   "execution_count": 29,
   "outputs": [],
   "source": [
    "with ExcelWriter('data/mystocks.xlsx') as writer:\n",
    "    for symbol in faang_stocks:\n",
    "        pd.DataFrame(ohlcv[symbol]).to_excel(writer, sheet_name=symbol)"
   ],
   "metadata": {
    "collapsed": false,
    "ExecuteTime": {
     "end_time": "2025-08-04T05:01:44.517431Z",
     "start_time": "2025-08-04T05:01:44.126588Z"
    }
   },
   "id": "a6ff64cc9d0f3c51"
  },
  {
   "cell_type": "markdown",
   "source": [],
   "metadata": {
    "collapsed": false
   },
   "id": "fb91a02c05c5e4f0"
  },
  {
   "cell_type": "code",
   "execution_count": 30,
   "outputs": [
    {
     "data": {
      "text/plain": "                           Close         High          Low         Open  \\\nPrice                                                                     \n2025-07-28 00:00:00  1174.599976  1197.790039  1168.530029  1181.199951   \n2025-07-29 00:00:00   1168.73999  1179.599976  1163.290039         1179   \n2025-07-30 00:00:00  1184.199951  1184.849976  1166.099976  1168.550049   \n2025-07-31 00:00:00  1159.400024         1190   1157.73999  1184.800049   \n2025-08-01 00:00:00  1158.599976   1178.51001  1152.849976   1163.01001   \n\n                      Volume  \nPrice                         \n2025-07-28 00:00:00  3447000  \n2025-07-29 00:00:00  2752500  \n2025-07-30 00:00:00  2922700  \n2025-07-31 00:00:00  3712900  \n2025-08-01 00:00:00  3888000  ",
      "text/html": "<div>\n<style scoped>\n    .dataframe tbody tr th:only-of-type {\n        vertical-align: middle;\n    }\n\n    .dataframe tbody tr th {\n        vertical-align: top;\n    }\n\n    .dataframe thead th {\n        text-align: right;\n    }\n</style>\n<table border=\"1\" class=\"dataframe\">\n  <thead>\n    <tr style=\"text-align: right;\">\n      <th></th>\n      <th>Close</th>\n      <th>High</th>\n      <th>Low</th>\n      <th>Open</th>\n      <th>Volume</th>\n    </tr>\n    <tr>\n      <th>Price</th>\n      <th></th>\n      <th></th>\n      <th></th>\n      <th></th>\n      <th></th>\n    </tr>\n  </thead>\n  <tbody>\n    <tr>\n      <th>2025-07-28 00:00:00</th>\n      <td>1174.599976</td>\n      <td>1197.790039</td>\n      <td>1168.530029</td>\n      <td>1181.199951</td>\n      <td>3447000</td>\n    </tr>\n    <tr>\n      <th>2025-07-29 00:00:00</th>\n      <td>1168.73999</td>\n      <td>1179.599976</td>\n      <td>1163.290039</td>\n      <td>1179</td>\n      <td>2752500</td>\n    </tr>\n    <tr>\n      <th>2025-07-30 00:00:00</th>\n      <td>1184.199951</td>\n      <td>1184.849976</td>\n      <td>1166.099976</td>\n      <td>1168.550049</td>\n      <td>2922700</td>\n    </tr>\n    <tr>\n      <th>2025-07-31 00:00:00</th>\n      <td>1159.400024</td>\n      <td>1190</td>\n      <td>1157.73999</td>\n      <td>1184.800049</td>\n      <td>3712900</td>\n    </tr>\n    <tr>\n      <th>2025-08-01 00:00:00</th>\n      <td>1158.599976</td>\n      <td>1178.51001</td>\n      <td>1152.849976</td>\n      <td>1163.01001</td>\n      <td>3888000</td>\n    </tr>\n  </tbody>\n</table>\n</div>"
     },
     "execution_count": 30,
     "metadata": {},
     "output_type": "execute_result"
    }
   ],
   "source": [
    "faang = pd.read_excel('data/mystocks.xlsx', sheet_name='NFLX', index_col=0, parse_dates=True)\n",
    "faang.tail()"
   ],
   "metadata": {
    "collapsed": false,
    "ExecuteTime": {
     "end_time": "2025-08-04T05:05:47.139195Z",
     "start_time": "2025-08-04T05:05:46.966152Z"
    }
   },
   "id": "a8381f87502b3d68"
  },
  {
   "cell_type": "code",
   "execution_count": 36,
   "outputs": [
    {
     "name": "stdout",
     "output_type": "stream",
     "text": [
      "data saved\n"
     ]
    }
   ],
   "source": [
    "[pd.DataFrame(ohlcv[symbol]).to_csv('data/{}.csv'.format(symbol)) for symbol in faang_stocks]\n",
    "print(\"data saved\")\n",
    "#need to use csv rather than excel to avoid issues with formatting"
   ],
   "metadata": {
    "collapsed": false,
    "ExecuteTime": {
     "end_time": "2025-08-04T05:11:44.433690Z",
     "start_time": "2025-08-04T05:11:44.392721Z"
    }
   },
   "id": "27792a997a1e2239"
  },
  {
   "cell_type": "code",
   "execution_count": 37,
   "outputs": [
    {
     "data": {
      "text/plain": "                         Close                High                 Low  \\\nPrice                                                                    \n2025-07-28   214.0500030517578  214.85000610351562  213.05999755859375   \n2025-07-29  211.27000427246094  214.80999755859375  210.82000732421875   \n2025-07-30   209.0500030517578  212.38999938964844  207.72000122070312   \n2025-07-31  207.57000732421875  209.83999633789062  207.16000366210938   \n2025-08-01   202.3800048828125   213.5800018310547               201.5   \n\n                          Open     Volume  \nPrice                                      \n2025-07-28  214.02999877929688   37858000  \n2025-07-29  214.17999267578125   51411700  \n2025-07-30  211.89999389648438   45512500  \n2025-07-31  208.49000549316406   80698400  \n2025-08-01   210.8699951171875  104301700  ",
      "text/html": "<div>\n<style scoped>\n    .dataframe tbody tr th:only-of-type {\n        vertical-align: middle;\n    }\n\n    .dataframe tbody tr th {\n        vertical-align: top;\n    }\n\n    .dataframe thead th {\n        text-align: right;\n    }\n</style>\n<table border=\"1\" class=\"dataframe\">\n  <thead>\n    <tr style=\"text-align: right;\">\n      <th></th>\n      <th>Close</th>\n      <th>High</th>\n      <th>Low</th>\n      <th>Open</th>\n      <th>Volume</th>\n    </tr>\n    <tr>\n      <th>Price</th>\n      <th></th>\n      <th></th>\n      <th></th>\n      <th></th>\n      <th></th>\n    </tr>\n  </thead>\n  <tbody>\n    <tr>\n      <th>2025-07-28</th>\n      <td>214.0500030517578</td>\n      <td>214.85000610351562</td>\n      <td>213.05999755859375</td>\n      <td>214.02999877929688</td>\n      <td>37858000</td>\n    </tr>\n    <tr>\n      <th>2025-07-29</th>\n      <td>211.27000427246094</td>\n      <td>214.80999755859375</td>\n      <td>210.82000732421875</td>\n      <td>214.17999267578125</td>\n      <td>51411700</td>\n    </tr>\n    <tr>\n      <th>2025-07-30</th>\n      <td>209.0500030517578</td>\n      <td>212.38999938964844</td>\n      <td>207.72000122070312</td>\n      <td>211.89999389648438</td>\n      <td>45512500</td>\n    </tr>\n    <tr>\n      <th>2025-07-31</th>\n      <td>207.57000732421875</td>\n      <td>209.83999633789062</td>\n      <td>207.16000366210938</td>\n      <td>208.49000549316406</td>\n      <td>80698400</td>\n    </tr>\n    <tr>\n      <th>2025-08-01</th>\n      <td>202.3800048828125</td>\n      <td>213.5800018310547</td>\n      <td>201.5</td>\n      <td>210.8699951171875</td>\n      <td>104301700</td>\n    </tr>\n  </tbody>\n</table>\n</div>"
     },
     "execution_count": 37,
     "metadata": {},
     "output_type": "execute_result"
    }
   ],
   "source": [
    "aapl = pd.read_csv('data/AAPL.csv', index_col=0, parse_dates=True, dayfirst=False, encoding='latin-1')\n",
    "aapl.tail()"
   ],
   "metadata": {
    "collapsed": false,
    "ExecuteTime": {
     "end_time": "2025-08-04T05:12:42.270703Z",
     "start_time": "2025-08-04T05:12:42.224682Z"
    }
   },
   "id": "12c6e35f40622f8b"
  },
  {
   "cell_type": "markdown",
   "source": [
    "retrieving sp500 stocklist"
   ],
   "metadata": {
    "collapsed": false
   },
   "id": "b9a8d7699dd4d139"
  },
  {
   "cell_type": "code",
   "execution_count": 40,
   "outputs": [
    {
     "data": {
      "text/plain": "[    Symbol             Security             GICS Sector  \\\n 0      MMM                   3M             Industrials   \n 1      AOS          A. O. Smith             Industrials   \n 2      ABT  Abbott Laboratories             Health Care   \n 3     ABBV               AbbVie             Health Care   \n 4      ACN            Accenture  Information Technology   \n ..     ...                  ...                     ...   \n 498    XYL           Xylem Inc.             Industrials   \n 499    YUM          Yum! Brands  Consumer Discretionary   \n 500   ZBRA   Zebra Technologies  Information Technology   \n 501    ZBH        Zimmer Biomet             Health Care   \n 502    ZTS               Zoetis             Health Care   \n \n                                 GICS Sub-Industry    Headquarters Location  \\\n 0                        Industrial Conglomerates    Saint Paul, Minnesota   \n 1                               Building Products     Milwaukee, Wisconsin   \n 2                           Health Care Equipment  North Chicago, Illinois   \n 3                                   Biotechnology  North Chicago, Illinois   \n 4                  IT Consulting & Other Services          Dublin, Ireland   \n ..                                            ...                      ...   \n 498  Industrial Machinery & Supplies & Components   White Plains, New York   \n 499                                   Restaurants     Louisville, Kentucky   \n 500            Electronic Equipment & Instruments   Lincolnshire, Illinois   \n 501                         Health Care Equipment          Warsaw, Indiana   \n 502                               Pharmaceuticals   Parsippany, New Jersey   \n \n      Date added      CIK      Founded  \n 0    1957-03-04    66740         1902  \n 1    2017-07-26    91142         1916  \n 2    1957-03-04     1800         1888  \n 3    2012-12-31  1551152  2013 (1888)  \n 4    2011-07-06  1467373         1989  \n ..          ...      ...          ...  \n 498  2011-11-01  1524472         2011  \n 499  1997-10-06  1041061         1997  \n 500  2019-12-23   877212         1969  \n 501  2001-08-07  1136869         1927  \n 502  2013-06-21  1555280         1952  \n \n [503 rows x 8 columns],\n                    Date  Added                                Removed  \\\n                    Date Ticker                       Security  Ticker   \n 0         July 23, 2025    XYZ                    Block, Inc.     HES   \n 1         July 18, 2025    TTD               Trade Desk (The)    ANSS   \n 2          July 9, 2025   DDOG                        Datadog    JNPR   \n 3          May 19, 2025   COIN                       Coinbase     DFS   \n 4        March 24, 2025   DASH                       DoorDash     BWA   \n ..                  ...    ...                            ...     ...   \n 370   December 11, 1998   CPWR                      Compuware     SUN   \n 371       June 17, 1997    CCI  Countrywide Credit Industries     USL   \n 372  September 30, 1994    NCC                  National City     MCK   \n 373        July 1, 1976    BUD                 Anheuser Busch     HNG   \n 374        July 1, 1976    DIS        The Walt Disney Company     AYE   \n \n                                                                      Reason  \n                 Security                                             Reason  \n 0       Hess Corporation  S&P 500 and S&P 100 constituent Chevron Corp. ...  \n 1                  Ansys  S&P 500 constituent Synopsys Inc. acquired Ans...  \n 2       Juniper Networks  S&P 500 constituent Hewlett Packard Enterprise...  \n 3     Discover Financial  S&P 500 constituent Capital One Financial Corp...  \n 4             BorgWarner                   Market capitalization change.[8]  \n ..                   ...                                                ...  \n 370           SunAmerica                     AIG purchased SunAmerica.[265]  \n 371               USLife                          AIG acquired USLife.[266]  \n 372             McKesson  McKesson sold PCS Health Services to Eli Lilly...  \n 373  Houston Natural Gas  Major restructuring of S&P 500 to have fewer i...  \n 374     Allegheny Energy  Major restructuring of S&P 500 to have fewer i...  \n \n [375 rows x 6 columns]]"
     },
     "execution_count": 40,
     "metadata": {},
     "output_type": "execute_result"
    }
   ],
   "source": [
    "sp500 = pd.read_html('https://en.wikipedia.org/wiki/List_of_S%26P_500_companies')\n",
    "sp500"
   ],
   "metadata": {
    "collapsed": false,
    "ExecuteTime": {
     "end_time": "2025-08-04T05:17:37.535280Z",
     "start_time": "2025-08-04T05:17:36.583133Z"
    }
   },
   "id": "15f0d8f2dbb2f736"
  },
  {
   "cell_type": "code",
   "execution_count": 41,
   "outputs": [
    {
     "data": {
      "text/plain": "0       MMM\n1       AOS\n2       ABT\n3      ABBV\n4       ACN\n       ... \n498     XYL\n499     YUM\n500    ZBRA\n501     ZBH\n502     ZTS\nName: Symbol, Length: 503, dtype: object"
     },
     "execution_count": 41,
     "metadata": {},
     "output_type": "execute_result"
    }
   ],
   "source": [
    "sp500[0]['Symbol']"
   ],
   "metadata": {
    "collapsed": false,
    "ExecuteTime": {
     "end_time": "2025-08-04T05:24:05.925600Z",
     "start_time": "2025-08-04T05:24:05.891336Z"
    }
   },
   "id": "e77bc7702c0cfdbb"
  },
  {
   "cell_type": "code",
   "execution_count": 42,
   "outputs": [
    {
     "data": {
      "text/plain": "['MMM', 'AOS', 'ABT', 'ABBV', 'ACN', 'ADBE', 'AMD', 'AES', 'AFL', 'A']"
     },
     "execution_count": 42,
     "metadata": {},
     "output_type": "execute_result"
    }
   ],
   "source": [
    "stocklist = list(sp500[0]['Symbol'])\n",
    "stocklist[:10]"
   ],
   "metadata": {
    "collapsed": false,
    "ExecuteTime": {
     "end_time": "2025-08-04T05:24:34.777014Z",
     "start_time": "2025-08-04T05:24:34.758682Z"
    }
   },
   "id": "e85c6eef2224bc06"
  },
  {
   "cell_type": "markdown",
   "source": [
    "plot"
   ],
   "metadata": {
    "collapsed": false
   },
   "id": "df8f11b4c0ee6e9a"
  },
  {
   "cell_type": "code",
   "execution_count": null,
   "outputs": [],
   "source": [],
   "metadata": {
    "collapsed": false
   },
   "id": "80ae1d1e4bc6e1ac"
  }
 ],
 "metadata": {
  "kernelspec": {
   "display_name": "Python 3",
   "language": "python",
   "name": "python3"
  },
  "language_info": {
   "codemirror_mode": {
    "name": "ipython",
    "version": 2
   },
   "file_extension": ".py",
   "mimetype": "text/x-python",
   "name": "python",
   "nbconvert_exporter": "python",
   "pygments_lexer": "ipython2",
   "version": "2.7.6"
  }
 },
 "nbformat": 4,
 "nbformat_minor": 5
}
