{
 "cells": [
  {
   "cell_type": "code",
   "execution_count": 2,
   "id": "initial_id",
   "metadata": {
    "collapsed": true,
    "ExecuteTime": {
     "end_time": "2025-08-04T04:12:39.143774Z",
     "start_time": "2025-08-04T04:12:39.122903Z"
    }
   },
   "outputs": [
    {
     "data": {
      "text/html": "        <script type=\"text/javascript\">\n        window.PlotlyConfig = {MathJaxConfig: 'local'};\n        if (window.MathJax && window.MathJax.Hub && window.MathJax.Hub.Config) {window.MathJax.Hub.Config({SVG: {font: \"STIX-Web\"}});}\n        </script>\n        <script type=\"module\">import \"https://cdn.plot.ly/plotly-3.0.1.min\"</script>\n        "
     },
     "metadata": {},
     "output_type": "display_data"
    }
   ],
   "source": [
    "import pandas as pd\n",
    "import numpy as np\n",
    "\n",
    "import yfinance as yf\n",
    "\n",
    "import cufflinks as cf\n",
    "cf.set_config_file(offline=True)\n",
    "\n",
    "import warnings\n",
    "warnings.filterwarnings('ignore')"
   ]
  },
  {
   "cell_type": "code",
   "execution_count": 3,
   "outputs": [
    {
     "data": {
      "text/plain": "('2.3.1', '2.0.2', '0.2.65', '0.17.3')"
     },
     "execution_count": 3,
     "metadata": {},
     "output_type": "execute_result"
    }
   ],
   "source": [
    "pd.__version__, np.__version__, yf.__version__, cf.__version__"
   ],
   "metadata": {
    "collapsed": false,
    "ExecuteTime": {
     "end_time": "2025-08-04T04:12:48.756940Z",
     "start_time": "2025-08-04T04:12:48.730235Z"
    }
   },
   "id": "76b931a5a63f27ca"
  },
  {
   "cell_type": "code",
   "execution_count": 4,
   "outputs": [
    {
     "data": {
      "text/plain": "Price            Close        High         Low        Open     Volume\nTicker             SPY         SPY         SPY         SPY        SPY\nDate                                                                 \n2025-07-28  636.940002  638.039978  635.539978  637.479980   54917100\n2025-07-29  635.260010  638.669983  634.340027  638.349976   60556300\n2025-07-30  634.460022  637.679993  631.539978  635.919983   80418900\n2025-07-31  632.080017  639.849976  630.770020  639.460022  103385200\n2025-08-01  621.719971  626.340027  619.289978  626.299988  139951500",
      "text/html": "<div>\n<style scoped>\n    .dataframe tbody tr th:only-of-type {\n        vertical-align: middle;\n    }\n\n    .dataframe tbody tr th {\n        vertical-align: top;\n    }\n\n    .dataframe thead tr th {\n        text-align: left;\n    }\n\n    .dataframe thead tr:last-of-type th {\n        text-align: right;\n    }\n</style>\n<table border=\"1\" class=\"dataframe\">\n  <thead>\n    <tr>\n      <th>Price</th>\n      <th>Close</th>\n      <th>High</th>\n      <th>Low</th>\n      <th>Open</th>\n      <th>Volume</th>\n    </tr>\n    <tr>\n      <th>Ticker</th>\n      <th>SPY</th>\n      <th>SPY</th>\n      <th>SPY</th>\n      <th>SPY</th>\n      <th>SPY</th>\n    </tr>\n    <tr>\n      <th>Date</th>\n      <th></th>\n      <th></th>\n      <th></th>\n      <th></th>\n      <th></th>\n    </tr>\n  </thead>\n  <tbody>\n    <tr>\n      <th>2025-07-28</th>\n      <td>636.940002</td>\n      <td>638.039978</td>\n      <td>635.539978</td>\n      <td>637.479980</td>\n      <td>54917100</td>\n    </tr>\n    <tr>\n      <th>2025-07-29</th>\n      <td>635.260010</td>\n      <td>638.669983</td>\n      <td>634.340027</td>\n      <td>638.349976</td>\n      <td>60556300</td>\n    </tr>\n    <tr>\n      <th>2025-07-30</th>\n      <td>634.460022</td>\n      <td>637.679993</td>\n      <td>631.539978</td>\n      <td>635.919983</td>\n      <td>80418900</td>\n    </tr>\n    <tr>\n      <th>2025-07-31</th>\n      <td>632.080017</td>\n      <td>639.849976</td>\n      <td>630.770020</td>\n      <td>639.460022</td>\n      <td>103385200</td>\n    </tr>\n    <tr>\n      <th>2025-08-01</th>\n      <td>621.719971</td>\n      <td>626.340027</td>\n      <td>619.289978</td>\n      <td>626.299988</td>\n      <td>139951500</td>\n    </tr>\n  </tbody>\n</table>\n</div>"
     },
     "execution_count": 4,
     "metadata": {},
     "output_type": "execute_result"
    }
   ],
   "source": [
    "df1 = yf.download('SPY', period='5d', progress=False)\n",
    "df1.head()\n"
   ],
   "metadata": {
    "collapsed": false,
    "ExecuteTime": {
     "end_time": "2025-08-04T04:13:24.083846Z",
     "start_time": "2025-08-04T04:13:23.589249Z"
    }
   },
   "id": "7e3e19131ffed1f6"
  },
  {
   "cell_type": "code",
   "execution_count": 5,
   "outputs": [
    {
     "data": {
      "text/plain": "Price            Close        High         Low        Open    Volume\nTicker             SPY         SPY         SPY         SPY       SPY\nDate                                                                \n2020-12-24  346.428375  346.456539  344.973200  345.564639  26457900\n2020-12-28  349.404510  349.798803  348.371791  349.000792  39000400\n2020-12-29  348.737854  351.122491  348.146386  350.944111  53680500\n2020-12-30  349.235474  350.277590  348.841181  349.564070  49455300",
      "text/html": "<div>\n<style scoped>\n    .dataframe tbody tr th:only-of-type {\n        vertical-align: middle;\n    }\n\n    .dataframe tbody tr th {\n        vertical-align: top;\n    }\n\n    .dataframe thead tr th {\n        text-align: left;\n    }\n\n    .dataframe thead tr:last-of-type th {\n        text-align: right;\n    }\n</style>\n<table border=\"1\" class=\"dataframe\">\n  <thead>\n    <tr>\n      <th>Price</th>\n      <th>Close</th>\n      <th>High</th>\n      <th>Low</th>\n      <th>Open</th>\n      <th>Volume</th>\n    </tr>\n    <tr>\n      <th>Ticker</th>\n      <th>SPY</th>\n      <th>SPY</th>\n      <th>SPY</th>\n      <th>SPY</th>\n      <th>SPY</th>\n    </tr>\n    <tr>\n      <th>Date</th>\n      <th></th>\n      <th></th>\n      <th></th>\n      <th></th>\n      <th></th>\n    </tr>\n  </thead>\n  <tbody>\n    <tr>\n      <th>2020-12-24</th>\n      <td>346.428375</td>\n      <td>346.456539</td>\n      <td>344.973200</td>\n      <td>345.564639</td>\n      <td>26457900</td>\n    </tr>\n    <tr>\n      <th>2020-12-28</th>\n      <td>349.404510</td>\n      <td>349.798803</td>\n      <td>348.371791</td>\n      <td>349.000792</td>\n      <td>39000400</td>\n    </tr>\n    <tr>\n      <th>2020-12-29</th>\n      <td>348.737854</td>\n      <td>351.122491</td>\n      <td>348.146386</td>\n      <td>350.944111</td>\n      <td>53680500</td>\n    </tr>\n    <tr>\n      <th>2020-12-30</th>\n      <td>349.235474</td>\n      <td>350.277590</td>\n      <td>348.841181</td>\n      <td>349.564070</td>\n      <td>49455300</td>\n    </tr>\n  </tbody>\n</table>\n</div>"
     },
     "execution_count": 5,
     "metadata": {},
     "output_type": "execute_result"
    }
   ],
   "source": [
    "df2 = yf.download('SPY', start='2020-12-24', end='2020-12-31', progress=False)\n",
    "df2.head()"
   ],
   "metadata": {
    "collapsed": false,
    "ExecuteTime": {
     "end_time": "2025-08-04T04:14:26.476486Z",
     "start_time": "2025-08-04T04:14:26.252500Z"
    }
   },
   "id": "16ca9788c8da3a49"
  },
  {
   "cell_type": "code",
   "execution_count": 6,
   "outputs": [
    {
     "data": {
      "text/plain": "Price            Close        High         Low        Open     Volume\nTicker             SPY         SPY         SPY         SPY        SPY\nDate                                                                 \n2025-07-28  636.940002  638.039978  635.539978  637.479980   54917100\n2025-07-29  635.260010  638.669983  634.340027  638.349976   60556300\n2025-07-30  634.460022  637.679993  631.539978  635.919983   80418900\n2025-07-31  632.080017  639.849976  630.770020  639.460022  103385200\n2025-08-01  621.719971  626.340027  619.289978  626.299988  139951500",
      "text/html": "<div>\n<style scoped>\n    .dataframe tbody tr th:only-of-type {\n        vertical-align: middle;\n    }\n\n    .dataframe tbody tr th {\n        vertical-align: top;\n    }\n\n    .dataframe thead tr th {\n        text-align: left;\n    }\n\n    .dataframe thead tr:last-of-type th {\n        text-align: right;\n    }\n</style>\n<table border=\"1\" class=\"dataframe\">\n  <thead>\n    <tr>\n      <th>Price</th>\n      <th>Close</th>\n      <th>High</th>\n      <th>Low</th>\n      <th>Open</th>\n      <th>Volume</th>\n    </tr>\n    <tr>\n      <th>Ticker</th>\n      <th>SPY</th>\n      <th>SPY</th>\n      <th>SPY</th>\n      <th>SPY</th>\n      <th>SPY</th>\n    </tr>\n    <tr>\n      <th>Date</th>\n      <th></th>\n      <th></th>\n      <th></th>\n      <th></th>\n      <th></th>\n    </tr>\n  </thead>\n  <tbody>\n    <tr>\n      <th>2025-07-28</th>\n      <td>636.940002</td>\n      <td>638.039978</td>\n      <td>635.539978</td>\n      <td>637.479980</td>\n      <td>54917100</td>\n    </tr>\n    <tr>\n      <th>2025-07-29</th>\n      <td>635.260010</td>\n      <td>638.669983</td>\n      <td>634.340027</td>\n      <td>638.349976</td>\n      <td>60556300</td>\n    </tr>\n    <tr>\n      <th>2025-07-30</th>\n      <td>634.460022</td>\n      <td>637.679993</td>\n      <td>631.539978</td>\n      <td>635.919983</td>\n      <td>80418900</td>\n    </tr>\n    <tr>\n      <th>2025-07-31</th>\n      <td>632.080017</td>\n      <td>639.849976</td>\n      <td>630.770020</td>\n      <td>639.460022</td>\n      <td>103385200</td>\n    </tr>\n    <tr>\n      <th>2025-08-01</th>\n      <td>621.719971</td>\n      <td>626.340027</td>\n      <td>619.289978</td>\n      <td>626.299988</td>\n      <td>139951500</td>\n    </tr>\n  </tbody>\n</table>\n</div>"
     },
     "execution_count": 6,
     "metadata": {},
     "output_type": "execute_result"
    }
   ],
   "source": [
    "df3 = yf.download('SPY', period='ytd', progress=False)\n",
    "df3.tail()"
   ],
   "metadata": {
    "collapsed": false,
    "ExecuteTime": {
     "end_time": "2025-08-04T04:15:51.102613Z",
     "start_time": "2025-08-04T04:15:50.920756Z"
    }
   },
   "id": "54cd791c91972044"
  },
  {
   "cell_type": "code",
   "execution_count": 7,
   "outputs": [
    {
     "data": {
      "text/plain": "['AAPL', 'AMZN', 'FB', 'GOOGL', 'NFLX']"
     },
     "execution_count": 7,
     "metadata": {},
     "output_type": "execute_result"
    }
   ],
   "source": [
    "faang_stocks = ['AAPL', 'AMZN', 'FB', 'GOOGL', 'NFLX']\n",
    "faang_stocks"
   ],
   "metadata": {
    "collapsed": false,
    "ExecuteTime": {
     "end_time": "2025-08-04T04:16:18.486117Z",
     "start_time": "2025-08-04T04:16:18.479754Z"
    }
   },
   "id": "4d7ac4fc75e8348a"
  },
  {
   "cell_type": "code",
   "execution_count": 12,
   "outputs": [
    {
     "data": {
      "text/plain": "Ticker            AAPL        AMZN         FB       GOOGL         NFLX\nDate                                                                  \n2025-07-28  214.050003  232.789993  40.560001  192.580002  1174.599976\n2025-07-29  211.270004  231.009995  40.529999  195.750000  1168.739990\n2025-07-30  209.050003  230.190002  40.500000  196.529999  1184.199951\n2025-07-31  207.570007  234.110001  40.567001  191.899994  1159.400024\n2025-08-01  202.380005  214.750000  40.264000  189.130005  1158.599976",
      "text/html": "<div>\n<style scoped>\n    .dataframe tbody tr th:only-of-type {\n        vertical-align: middle;\n    }\n\n    .dataframe tbody tr th {\n        vertical-align: top;\n    }\n\n    .dataframe thead th {\n        text-align: right;\n    }\n</style>\n<table border=\"1\" class=\"dataframe\">\n  <thead>\n    <tr style=\"text-align: right;\">\n      <th>Ticker</th>\n      <th>AAPL</th>\n      <th>AMZN</th>\n      <th>FB</th>\n      <th>GOOGL</th>\n      <th>NFLX</th>\n    </tr>\n    <tr>\n      <th>Date</th>\n      <th></th>\n      <th></th>\n      <th></th>\n      <th></th>\n      <th></th>\n    </tr>\n  </thead>\n  <tbody>\n    <tr>\n      <th>2025-07-28</th>\n      <td>214.050003</td>\n      <td>232.789993</td>\n      <td>40.560001</td>\n      <td>192.580002</td>\n      <td>1174.599976</td>\n    </tr>\n    <tr>\n      <th>2025-07-29</th>\n      <td>211.270004</td>\n      <td>231.009995</td>\n      <td>40.529999</td>\n      <td>195.750000</td>\n      <td>1168.739990</td>\n    </tr>\n    <tr>\n      <th>2025-07-30</th>\n      <td>209.050003</td>\n      <td>230.190002</td>\n      <td>40.500000</td>\n      <td>196.529999</td>\n      <td>1184.199951</td>\n    </tr>\n    <tr>\n      <th>2025-07-31</th>\n      <td>207.570007</td>\n      <td>234.110001</td>\n      <td>40.567001</td>\n      <td>191.899994</td>\n      <td>1159.400024</td>\n    </tr>\n    <tr>\n      <th>2025-08-01</th>\n      <td>202.380005</td>\n      <td>214.750000</td>\n      <td>40.264000</td>\n      <td>189.130005</td>\n      <td>1158.599976</td>\n    </tr>\n  </tbody>\n</table>\n</div>"
     },
     "execution_count": 12,
     "metadata": {},
     "output_type": "execute_result"
    }
   ],
   "source": [
    "df4 = yf.download(faang_stocks, period = 'ytd', progress=False)['Close']\n",
    "df4.tail()"
   ],
   "metadata": {
    "collapsed": false,
    "ExecuteTime": {
     "end_time": "2025-08-04T04:22:00.337817Z",
     "start_time": "2025-08-04T04:22:00.041874Z"
    }
   },
   "id": "ab232dc98532d01c"
  },
  {
   "cell_type": "code",
   "execution_count": null,
   "outputs": [],
   "source": [],
   "metadata": {
    "collapsed": false
   },
   "id": "99fa297b943ad244"
  }
 ],
 "metadata": {
  "kernelspec": {
   "display_name": "Python 3",
   "language": "python",
   "name": "python3"
  },
  "language_info": {
   "codemirror_mode": {
    "name": "ipython",
    "version": 2
   },
   "file_extension": ".py",
   "mimetype": "text/x-python",
   "name": "python",
   "nbconvert_exporter": "python",
   "pygments_lexer": "ipython2",
   "version": "2.7.6"
  }
 },
 "nbformat": 4,
 "nbformat_minor": 5
}
